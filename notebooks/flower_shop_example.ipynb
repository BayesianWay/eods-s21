{
 "cells": [
  {
   "cell_type": "markdown",
   "metadata": {
    "nbpresent": {
     "id": "7397c4be-450c-49e5-bbab-76292836cd23"
    },
    "slideshow": {
     "slide_type": "slide"
    }
   },
   "source": [
    "# What does a Data Science project look like?"
   ]
  },
  {
   "cell_type": "markdown",
   "metadata": {
    "slideshow": {
     "slide_type": "slide"
    }
   },
   "source": [
    "#### Client: \n",
    "\n",
    "My Flower Shop\n",
    "\n",
    "#### Ask: \n",
    "\n",
    "Need to send out a catalog. Would like to know who to send it to.\n",
    "\n",
    "#### One translation: \n",
    "\n",
    "Can we classify people according to whether they're likely to reorder?"
   ]
  },
  {
   "cell_type": "markdown",
   "metadata": {},
   "source": [
    "## Notebook Setup"
   ]
  },
  {
   "cell_type": "code",
   "execution_count": 1,
   "metadata": {
    "nbpresent": {
     "id": "18c8e1e5-e9f5-445c-921e-445ba1d21f17"
    },
    "slideshow": {
     "slide_type": "slide"
    }
   },
   "outputs": [],
   "source": [
    "import warnings\n",
    "warnings.simplefilter(action='ignore', category=FutureWarning)\n",
    "\n",
    "import numpy as np\n",
    "import pandas as pd\n",
    "import seaborn as sns\n",
    "import matplotlib.pyplot as plt\n",
    "\n",
    "from sklearn.ensemble import RandomForestClassifier\n",
    "from sklearn.model_selection import cross_val_score\n",
    "from sklearn.model_selection import train_test_split\n",
    "\n",
    "%matplotlib inline\n",
    "sns.set()"
   ]
  },
  {
   "cell_type": "markdown",
   "metadata": {},
   "source": [
    "---"
   ]
  },
  {
   "cell_type": "markdown",
   "metadata": {},
   "source": [
    "## Read in Data"
   ]
  },
  {
   "cell_type": "code",
   "execution_count": 2,
   "metadata": {},
   "outputs": [],
   "source": [
    "datafile_name = '../data/flowershop_data.csv'"
   ]
  },
  {
   "cell_type": "code",
   "execution_count": 3,
   "metadata": {},
   "outputs": [
    {
     "name": "stdout",
     "output_type": "stream",
     "text": [
      "lastname,purchase_date,stars,price,favorite_flower\r\n",
      "PERKINS,2017-04-08,5,19.599885954165785,iris\r\n",
      "ROBINSON,2017-01-01,5,37.98390361682093,\r\n",
      "WILLIAMSON,2017-03-20,4,19.339137911467354,carnation\r\n",
      "ROBINSON,2017-04-12,5,18.140615754070392,lilac\r\n"
     ]
    }
   ],
   "source": [
    "# print out the first few lines of the datafile, looks like standard csv with a header and dates\n",
    "!head -5 {datafile_name}"
   ]
  },
  {
   "cell_type": "code",
   "execution_count": 4,
   "metadata": {
    "slideshow": {
     "slide_type": "fragment"
    }
   },
   "outputs": [
    {
     "name": "stdout",
     "output_type": "stream",
     "text": [
      "1000 rows, 5 columns\n"
     ]
    }
   ],
   "source": [
    "# read in data, note the number of rows and columns\n",
    "df = pd.read_csv('../data/flowershop_data.csv', header=0, parse_dates=True)\n",
    "print('{:d} rows, {:d} columns'.format(*df.shape))"
   ]
  },
  {
   "cell_type": "code",
   "execution_count": 5,
   "metadata": {
    "slideshow": {
     "slide_type": "fragment"
    }
   },
   "outputs": [
    {
     "data": {
      "text/html": [
       "<div>\n",
       "<style scoped>\n",
       "    .dataframe tbody tr th:only-of-type {\n",
       "        vertical-align: middle;\n",
       "    }\n",
       "\n",
       "    .dataframe tbody tr th {\n",
       "        vertical-align: top;\n",
       "    }\n",
       "\n",
       "    .dataframe thead th {\n",
       "        text-align: right;\n",
       "    }\n",
       "</style>\n",
       "<table border=\"1\" class=\"dataframe\">\n",
       "  <thead>\n",
       "    <tr style=\"text-align: right;\">\n",
       "      <th></th>\n",
       "      <th>lastname</th>\n",
       "      <th>purchase_date</th>\n",
       "      <th>stars</th>\n",
       "      <th>price</th>\n",
       "      <th>favorite_flower</th>\n",
       "    </tr>\n",
       "  </thead>\n",
       "  <tbody>\n",
       "    <tr>\n",
       "      <th>0</th>\n",
       "      <td>PERKINS</td>\n",
       "      <td>2017-04-08</td>\n",
       "      <td>5</td>\n",
       "      <td>19.599886</td>\n",
       "      <td>iris</td>\n",
       "    </tr>\n",
       "    <tr>\n",
       "      <th>1</th>\n",
       "      <td>ROBINSON</td>\n",
       "      <td>2017-01-01</td>\n",
       "      <td>5</td>\n",
       "      <td>37.983904</td>\n",
       "      <td>NaN</td>\n",
       "    </tr>\n",
       "    <tr>\n",
       "      <th>2</th>\n",
       "      <td>WILLIAMSON</td>\n",
       "      <td>2017-03-20</td>\n",
       "      <td>4</td>\n",
       "      <td>19.339138</td>\n",
       "      <td>carnation</td>\n",
       "    </tr>\n",
       "    <tr>\n",
       "      <th>3</th>\n",
       "      <td>ROBINSON</td>\n",
       "      <td>2017-04-12</td>\n",
       "      <td>5</td>\n",
       "      <td>18.140616</td>\n",
       "      <td>lilac</td>\n",
       "    </tr>\n",
       "    <tr>\n",
       "      <th>4</th>\n",
       "      <td>RHODES</td>\n",
       "      <td>2017-03-24</td>\n",
       "      <td>1</td>\n",
       "      <td>22.179522</td>\n",
       "      <td>carnation</td>\n",
       "    </tr>\n",
       "  </tbody>\n",
       "</table>\n",
       "</div>"
      ],
      "text/plain": [
       "     lastname purchase_date  stars      price favorite_flower\n",
       "0     PERKINS    2017-04-08      5  19.599886            iris\n",
       "1    ROBINSON    2017-01-01      5  37.983904             NaN\n",
       "2  WILLIAMSON    2017-03-20      4  19.339138       carnation\n",
       "3    ROBINSON    2017-04-12      5  18.140616           lilac\n",
       "4      RHODES    2017-03-24      1  22.179522       carnation"
      ]
     },
     "execution_count": 5,
     "metadata": {},
     "output_type": "execute_result"
    }
   ],
   "source": [
    "# use head to make sure the data was read correctly\n",
    "df.head()"
   ]
  },
  {
   "cell_type": "markdown",
   "metadata": {},
   "source": [
    "---"
   ]
  },
  {
   "cell_type": "markdown",
   "metadata": {},
   "source": [
    "## Evaluate and Clean Variables"
   ]
  },
  {
   "cell_type": "code",
   "execution_count": 6,
   "metadata": {
    "slideshow": {
     "slide_type": "slide"
    }
   },
   "outputs": [
    {
     "name": "stdout",
     "output_type": "stream",
     "text": [
      "<class 'pandas.core.frame.DataFrame'>\n",
      "RangeIndex: 1000 entries, 0 to 999\n",
      "Data columns (total 5 columns):\n",
      " #   Column           Non-Null Count  Dtype  \n",
      "---  ------           --------------  -----  \n",
      " 0   lastname         1000 non-null   object \n",
      " 1   purchase_date    1000 non-null   object \n",
      " 2   stars            1000 non-null   int64  \n",
      " 3   price            978 non-null    float64\n",
      " 4   favorite_flower  822 non-null    object \n",
      "dtypes: float64(1), int64(1), object(3)\n",
      "memory usage: 39.2+ KB\n"
     ]
    }
   ],
   "source": [
    "# use info to evaluate missing values and datatypes\n",
    "df.info()"
   ]
  },
  {
   "cell_type": "markdown",
   "metadata": {},
   "source": [
    "---"
   ]
  },
  {
   "cell_type": "markdown",
   "metadata": {},
   "source": [
    "### Evaluate and Clean: Stars"
   ]
  },
  {
   "cell_type": "code",
   "execution_count": 7,
   "metadata": {
    "slideshow": {
     "slide_type": "slide"
    }
   },
   "outputs": [
    {
     "data": {
      "image/png": "[encoded data removed]",
      "text/plain": [
       "<Figure size 360x360 with 1 Axes>"
      ]
     },
     "metadata": {},
     "output_type": "display_data"
    }
   ],
   "source": [
    "# plot histogram for stars\n",
    "sns.catplot(x='stars',kind='count',data=df);\n",
    "plt.title('Distribution of Stars Variable');"
   ]
  },
  {
   "cell_type": "code",
   "execution_count": 8,
   "metadata": {
    "slideshow": {
     "slide_type": "slide"
    }
   },
   "outputs": [
    {
     "data": {
      "text/plain": [
       "ROBINSON    135\n",
       "DANIELS       9\n",
       "CALDWELL      8\n",
       "JACOBS        6\n",
       "JOHNSTON      6\n",
       "Name: lastname, dtype: int64"
      ]
     },
     "execution_count": 8,
     "metadata": {},
     "output_type": "execute_result"
    }
   ],
   "source": [
    "# an awful lot of 5s\n",
    "# get highest name counts\n",
    "df[df.stars == 5].lastname.value_counts().head()"
   ]
  },
  {
   "cell_type": "code",
   "execution_count": 9,
   "metadata": {
    "slideshow": {
     "slide_type": "slide"
    }
   },
   "outputs": [
    {
     "name": "stdout",
     "output_type": "stream",
     "text": [
      "robinson mean stars: 4.230769230769231\n",
      "other mean stars   : 3.433080808080808\n",
      "difference in mean : 0.7976884226884229\n"
     ]
    }
   ],
   "source": [
    "# get differences in mean stars by name\n",
    "robinson_mean = df[df.lastname == 'ROBINSON'].stars.mean()\n",
    "other_mean = df[df.lastname != 'ROBINSON'].stars.mean()\n",
    "robinson_mean_diff = robinson_mean - other_mean\n",
    "print('robinson mean stars: {}'.format(robinson_mean))\n",
    "print('other mean stars   : {}'.format(other_mean))\n",
    "print('difference in mean : {}'.format(robinson_mean_diff))"
   ]
  },
  {
   "cell_type": "code",
   "execution_count": 10,
   "metadata": {
    "slideshow": {
     "slide_type": "fragment"
    }
   },
   "outputs": [
    {
     "name": "stdout",
     "output_type": "stream",
     "text": [
      "n_robinson: 208\n",
      "n_other   : 792\n"
     ]
    }
   ],
   "source": [
    "# get counts for names\n",
    "n_robinson = len(df[df.lastname == 'ROBINSON'])\n",
    "n_other = len(df) - n_robinson\n",
    "print('n_robinson: {}'.format(n_robinson))\n",
    "print('n_other   : {}'.format(n_other))"
   ]
  },
  {
   "cell_type": "code",
   "execution_count": 11,
   "metadata": {
    "slideshow": {
     "slide_type": "slide"
    }
   },
   "outputs": [
    {
     "data": {
      "image/png": "[encoded data removed]",
      "text/plain": [
       "<Figure size 432x288 with 1 Axes>"
      ]
     },
     "metadata": {},
     "output_type": "display_data"
    }
   ],
   "source": [
    "# do a permutation test to test for significance of difference\n",
    "\n",
    "stars = df.stars.values\n",
    "mean_diffs = []\n",
    "\n",
    "for i in range(10000):\n",
    "    perm = np.random.permutation(stars)\n",
    "    mean_1 = np.mean(perm[:n_robinson])\n",
    "    mean_2 = np.mean(perm[n_robinson:])\n",
    "    mean_diffs.append(mean_1-mean_2)\n",
    "\n",
    "plt.hist(mean_diffs);\n",
    "plt.vlines(x=robinson_mean_diff, ymin = 0, ymax = 3000);\n",
    "plt.xlabel('mean differences');\n",
    "plt.ylabel('count');\n",
    "plt.title('Distribution of Differences In Means');"
   ]
  },
  {
   "cell_type": "code",
   "execution_count": 12,
   "metadata": {
    "slideshow": {
     "slide_type": "slide"
    }
   },
   "outputs": [
    {
     "name": "stdout",
     "output_type": "stream",
     "text": [
      "0.0\n"
     ]
    }
   ],
   "source": [
    "# calculate the p-value\n",
    "p = sum(np.abs(mean_diffs) >= np.abs(robinson_mean_diff)) / len(mean_diffs)\n",
    "print(p)"
   ]
  },
  {
   "cell_type": "markdown",
   "metadata": {},
   "source": [
    "**NOTE**: Getting rid of the records with lastname ROBINSON as the count of 5 stars from them seems suspiciously high relative to the rest of the sample."
   ]
  },
  {
   "cell_type": "code",
   "execution_count": 13,
   "metadata": {
    "slideshow": {
     "slide_type": "fragment"
    }
   },
   "outputs": [],
   "source": [
    "# drop rows with lastname ROBINSON\n",
    "df = df[df.lastname != 'ROBINSON']"
   ]
  },
  {
   "cell_type": "code",
   "execution_count": 14,
   "metadata": {
    "slideshow": {
     "slide_type": "slide"
    }
   },
   "outputs": [
    {
     "data": {
      "image/png": "[encoded data removed]",
      "text/plain": [
       "<Figure size 360x360 with 1 Axes>"
      ]
     },
     "metadata": {},
     "output_type": "display_data"
    }
   ],
   "source": [
    "# plot again and notice the change in distiribution\n",
    "sns.catplot(x='stars', kind='count', data=df);\n",
    "plt.title('Distribution of Stars Variable');"
   ]
  },
  {
   "cell_type": "code",
   "execution_count": 15,
   "metadata": {
    "slideshow": {
     "slide_type": "slide"
    }
   },
   "outputs": [
    {
     "name": "stdout",
     "output_type": "stream",
     "text": [
      "<class 'pandas.core.frame.DataFrame'>\n",
      "Int64Index: 792 entries, 0 to 998\n",
      "Data columns (total 5 columns):\n",
      " #   Column           Non-Null Count  Dtype  \n",
      "---  ------           --------------  -----  \n",
      " 0   lastname         792 non-null    object \n",
      " 1   purchase_date    792 non-null    object \n",
      " 2   stars            792 non-null    int64  \n",
      " 3   price            772 non-null    float64\n",
      " 4   favorite_flower  654 non-null    object \n",
      "dtypes: float64(1), int64(1), object(3)\n",
      "memory usage: 69.4+ KB\n"
     ]
    }
   ],
   "source": [
    "# Reprinting .info(), note we still have missing values\n",
    "df.info()"
   ]
  },
  {
   "cell_type": "markdown",
   "metadata": {},
   "source": [
    "---"
   ]
  },
  {
   "cell_type": "markdown",
   "metadata": {},
   "source": [
    "### Evaluate and Clean Price"
   ]
  },
  {
   "cell_type": "code",
   "execution_count": 16,
   "metadata": {},
   "outputs": [
    {
     "name": "stdout",
     "output_type": "stream",
     "text": [
      "proportion of rows with missing price: 0.025\n"
     ]
    }
   ],
   "source": [
    "print(f'proportion of rows with missing price: {sum(df.price.isna()) / len(df):0.3f}')"
   ]
  },
  {
   "cell_type": "code",
   "execution_count": 17,
   "metadata": {
    "slideshow": {
     "slide_type": "slide"
    }
   },
   "outputs": [
    {
     "data": {
      "text/plain": [
       "count    772.000000\n",
       "mean      23.720669\n",
       "std       11.154642\n",
       "min        7.621566\n",
       "25%       18.596314\n",
       "50%       20.226653\n",
       "75%       38.837663\n",
       "max       42.996317\n",
       "Name: price, dtype: float64"
      ]
     },
     "execution_count": 17,
     "metadata": {},
     "output_type": "execute_result"
    }
   ],
   "source": [
    "# before dealing with missing prices, check distribution\n",
    "df.price.describe()"
   ]
  },
  {
   "cell_type": "code",
   "execution_count": 18,
   "metadata": {},
   "outputs": [
    {
     "data": {
      "image/png": "[encoded data removed]",
      "text/plain": [
       "<Figure size 432x288 with 1 Axes>"
      ]
     },
     "metadata": {},
     "output_type": "display_data"
    }
   ],
   "source": [
    "sns.boxplot(df.price);\n",
    "plt.title('Box Plot of Price Variable');"
   ]
  },
  {
   "cell_type": "code",
   "execution_count": 19,
   "metadata": {},
   "outputs": [
    {
     "name": "stdout",
     "output_type": "stream",
     "text": [
      "proportion of price missing: 0.025\n"
     ]
    }
   ],
   "source": [
    "# create new column encoding missing price\n",
    "df['price_missing'] = df.price.isna()\n",
    "print(f'proportion of price missing: {sum(df.price_missing)/len(df):0.3f}')"
   ]
  },
  {
   "cell_type": "code",
   "execution_count": 20,
   "metadata": {
    "slideshow": {
     "slide_type": "fragment"
    }
   },
   "outputs": [],
   "source": [
    "# impute missing values with the mean\n",
    "df.price.fillna(df.price.mean(),inplace=True)"
   ]
  },
  {
   "cell_type": "code",
   "execution_count": 21,
   "metadata": {
    "slideshow": {
     "slide_type": "slide"
    }
   },
   "outputs": [],
   "source": [
    "# check to make sure we're no longer missing data\n",
    "assert sum(df.price.isna()) == 0"
   ]
  },
  {
   "cell_type": "code",
   "execution_count": 22,
   "metadata": {
    "slideshow": {
     "slide_type": "slide"
    }
   },
   "outputs": [
    {
     "data": {
      "image/png": "[encoded data removed]",
      "text/plain": [
       "<Figure size 432x288 with 1 Axes>"
      ]
     },
     "metadata": {},
     "output_type": "display_data"
    }
   ],
   "source": [
    "# plot distribution of price, noting clusters. Depending on model, may want to bin?\n",
    "sns.distplot(df.price, hist=False, rug=True);\n",
    "plt.title('Distribution of Price Variable');"
   ]
  },
  {
   "cell_type": "markdown",
   "metadata": {},
   "source": [
    "---"
   ]
  },
  {
   "cell_type": "markdown",
   "metadata": {},
   "source": [
    "### Evaluate and Clean Favorite_Flower Variable"
   ]
  },
  {
   "cell_type": "code",
   "execution_count": 23,
   "metadata": {
    "slideshow": {
     "slide_type": "slide"
    }
   },
   "outputs": [
    {
     "data": {
      "text/plain": [
       "0         iris\n",
       "2    carnation\n",
       "4    carnation\n",
       "5      gerbera\n",
       "7      gerbera\n",
       "Name: favorite_flower, dtype: object"
      ]
     },
     "execution_count": 23,
     "metadata": {},
     "output_type": "execute_result"
    }
   ],
   "source": [
    "# print out first few values for favorite_flower, noting that it is a categorical variable\n",
    "df.favorite_flower.head()"
   ]
  },
  {
   "cell_type": "code",
   "execution_count": 24,
   "metadata": {
    "slideshow": {
     "slide_type": "slide"
    }
   },
   "outputs": [
    {
     "data": {
      "text/plain": [
       "rose         106\n",
       "daffodil      79\n",
       "carnation     70\n",
       "gardenia      61\n",
       "tulip         59\n",
       "gerbera       44\n",
       "lilac         44\n",
       "sunflower     42\n",
       "orchid        42\n",
       "jasmine       42\n",
       "daisy         34\n",
       "iris          31\n",
       "Name: favorite_flower, dtype: int64"
      ]
     },
     "execution_count": 24,
     "metadata": {},
     "output_type": "execute_result"
    }
   ],
   "source": [
    "# print number of observations of each value\n",
    "df.favorite_flower.value_counts()"
   ]
  },
  {
   "cell_type": "markdown",
   "metadata": {},
   "source": [
    "---"
   ]
  },
  {
   "cell_type": "markdown",
   "metadata": {},
   "source": [
    "## Engineer New Features"
   ]
  },
  {
   "cell_type": "code",
   "execution_count": 25,
   "metadata": {
    "slideshow": {
     "slide_type": "slide"
    }
   },
   "outputs": [],
   "source": [
    "# create new dataframe for engineered features\n",
    "dfe = pd.DataFrame()"
   ]
  },
  {
   "cell_type": "markdown",
   "metadata": {},
   "source": [
    " **NOTE**: our prediction is by family, need to collapse observations"
   ]
  },
  {
   "cell_type": "code",
   "execution_count": 26,
   "metadata": {
    "slideshow": {
     "slide_type": "slide"
    }
   },
   "outputs": [],
   "source": [
    "# collapse rows\n",
    "g = df.groupby('lastname')"
   ]
  },
  {
   "cell_type": "markdown",
   "metadata": {},
   "source": [
    "### Create Mean Price"
   ]
  },
  {
   "cell_type": "code",
   "execution_count": 27,
   "metadata": {
    "slideshow": {
     "slide_type": "fragment"
    }
   },
   "outputs": [
    {
     "data": {
      "text/plain": [
       "lastname\n",
       "ADAMS        38.617753\n",
       "ALEXANDER    30.106511\n",
       "ALLEN        26.657993\n",
       "ALVAREZ      20.676235\n",
       "ANDERSON     14.653257\n",
       "Name: price, dtype: float64"
      ]
     },
     "execution_count": 27,
     "metadata": {},
     "output_type": "execute_result"
    }
   ],
   "source": [
    "# get mean price per family\n",
    "mean_prices = g.price.mean()\n",
    "mean_prices.head()"
   ]
  },
  {
   "cell_type": "code",
   "execution_count": 28,
   "metadata": {
    "slideshow": {
     "slide_type": "fragment"
    }
   },
   "outputs": [],
   "source": [
    "dfe['mean_price'] = mean_prices"
   ]
  },
  {
   "cell_type": "code",
   "execution_count": 29,
   "metadata": {
    "slideshow": {
     "slide_type": "fragment"
    }
   },
   "outputs": [
    {
     "data": {
      "text/html": [
       "<div>\n",
       "<style scoped>\n",
       "    .dataframe tbody tr th:only-of-type {\n",
       "        vertical-align: middle;\n",
       "    }\n",
       "\n",
       "    .dataframe tbody tr th {\n",
       "        vertical-align: top;\n",
       "    }\n",
       "\n",
       "    .dataframe thead th {\n",
       "        text-align: right;\n",
       "    }\n",
       "</style>\n",
       "<table border=\"1\" class=\"dataframe\">\n",
       "  <thead>\n",
       "    <tr style=\"text-align: right;\">\n",
       "      <th></th>\n",
       "      <th>mean_price</th>\n",
       "    </tr>\n",
       "    <tr>\n",
       "      <th>lastname</th>\n",
       "      <th></th>\n",
       "    </tr>\n",
       "  </thead>\n",
       "  <tbody>\n",
       "    <tr>\n",
       "      <th>ADAMS</th>\n",
       "      <td>38.617753</td>\n",
       "    </tr>\n",
       "    <tr>\n",
       "      <th>ALEXANDER</th>\n",
       "      <td>30.106511</td>\n",
       "    </tr>\n",
       "    <tr>\n",
       "      <th>ALLEN</th>\n",
       "      <td>26.657993</td>\n",
       "    </tr>\n",
       "    <tr>\n",
       "      <th>ALVAREZ</th>\n",
       "      <td>20.676235</td>\n",
       "    </tr>\n",
       "    <tr>\n",
       "      <th>ANDERSON</th>\n",
       "      <td>14.653257</td>\n",
       "    </tr>\n",
       "  </tbody>\n",
       "</table>\n",
       "</div>"
      ],
      "text/plain": [
       "           mean_price\n",
       "lastname             \n",
       "ADAMS       38.617753\n",
       "ALEXANDER   30.106511\n",
       "ALLEN       26.657993\n",
       "ALVAREZ     20.676235\n",
       "ANDERSON    14.653257"
      ]
     },
     "execution_count": 29,
     "metadata": {},
     "output_type": "execute_result"
    }
   ],
   "source": [
    "dfe.head()"
   ]
  },
  {
   "cell_type": "code",
   "execution_count": 30,
   "metadata": {
    "slideshow": {
     "slide_type": "slide"
    }
   },
   "outputs": [
    {
     "data": {
      "text/plain": [
       "mean    0.0\n",
       "std     1.0\n",
       "Name: mean_price_normed, dtype: float64"
      ]
     },
     "execution_count": 30,
     "metadata": {},
     "output_type": "execute_result"
    }
   ],
   "source": [
    "# depending on our model, may want to normalize features\n",
    "\n",
    "dfe['mean_price_normed'] = (dfe.mean_price.values - dfe.mean_price.mean()) / dfe.mean_price.std()\n",
    "dfe.mean_price_normed.agg(['mean','std']).round(2)"
   ]
  },
  {
   "cell_type": "code",
   "execution_count": 31,
   "metadata": {
    "slideshow": {
     "slide_type": "fragment"
    }
   },
   "outputs": [
    {
     "data": {
      "text/html": [
       "<div>\n",
       "<style scoped>\n",
       "    .dataframe tbody tr th:only-of-type {\n",
       "        vertical-align: middle;\n",
       "    }\n",
       "\n",
       "    .dataframe tbody tr th {\n",
       "        vertical-align: top;\n",
       "    }\n",
       "\n",
       "    .dataframe thead th {\n",
       "        text-align: right;\n",
       "    }\n",
       "</style>\n",
       "<table border=\"1\" class=\"dataframe\">\n",
       "  <thead>\n",
       "    <tr style=\"text-align: right;\">\n",
       "      <th></th>\n",
       "      <th>mean_price</th>\n",
       "      <th>mean_price_normed</th>\n",
       "    </tr>\n",
       "    <tr>\n",
       "      <th>lastname</th>\n",
       "      <th></th>\n",
       "      <th></th>\n",
       "    </tr>\n",
       "  </thead>\n",
       "  <tbody>\n",
       "    <tr>\n",
       "      <th>ADAMS</th>\n",
       "      <td>38.617753</td>\n",
       "      <td>1.848446</td>\n",
       "    </tr>\n",
       "    <tr>\n",
       "      <th>ALEXANDER</th>\n",
       "      <td>30.106511</td>\n",
       "      <td>0.823597</td>\n",
       "    </tr>\n",
       "    <tr>\n",
       "      <th>ALLEN</th>\n",
       "      <td>26.657993</td>\n",
       "      <td>0.408357</td>\n",
       "    </tr>\n",
       "    <tr>\n",
       "      <th>ALVAREZ</th>\n",
       "      <td>20.676235</td>\n",
       "      <td>-0.311913</td>\n",
       "    </tr>\n",
       "    <tr>\n",
       "      <th>ANDERSON</th>\n",
       "      <td>14.653257</td>\n",
       "      <td>-1.037147</td>\n",
       "    </tr>\n",
       "  </tbody>\n",
       "</table>\n",
       "</div>"
      ],
      "text/plain": [
       "           mean_price  mean_price_normed\n",
       "lastname                                \n",
       "ADAMS       38.617753           1.848446\n",
       "ALEXANDER   30.106511           0.823597\n",
       "ALLEN       26.657993           0.408357\n",
       "ALVAREZ     20.676235          -0.311913\n",
       "ANDERSON    14.653257          -1.037147"
      ]
     },
     "execution_count": 31,
     "metadata": {},
     "output_type": "execute_result"
    }
   ],
   "source": [
    "dfe.head()"
   ]
  },
  {
   "cell_type": "code",
   "execution_count": 32,
   "metadata": {
    "slideshow": {
     "slide_type": "fragment"
    }
   },
   "outputs": [],
   "source": [
    "# drop the unnormalized variable\n",
    "dfe.drop('mean_price',axis=1,inplace=True)"
   ]
  },
  {
   "cell_type": "markdown",
   "metadata": {},
   "source": [
    "---"
   ]
  },
  {
   "cell_type": "markdown",
   "metadata": {},
   "source": [
    "## Create Median Stars"
   ]
  },
  {
   "cell_type": "markdown",
   "metadata": {},
   "source": [
    "**NOTE**: Using median to be robust against extreme high or low values"
   ]
  },
  {
   "cell_type": "code",
   "execution_count": 33,
   "metadata": {
    "slideshow": {
     "slide_type": "slide"
    }
   },
   "outputs": [
    {
     "data": {
      "text/plain": [
       "lastname\n",
       "ADAMS        2.5\n",
       "ALEXANDER    4.5\n",
       "ALLEN        4.0\n",
       "ALVAREZ      3.0\n",
       "ANDERSON     2.0\n",
       "Name: stars, dtype: float64"
      ]
     },
     "execution_count": 33,
     "metadata": {},
     "output_type": "execute_result"
    }
   ],
   "source": [
    "g.stars.median().head()"
   ]
  },
  {
   "cell_type": "code",
   "execution_count": 34,
   "metadata": {
    "slideshow": {
     "slide_type": "fragment"
    }
   },
   "outputs": [],
   "source": [
    "dfe['median_stars'] = g.stars.median()"
   ]
  },
  {
   "cell_type": "code",
   "execution_count": 35,
   "metadata": {
    "slideshow": {
     "slide_type": "fragment"
    }
   },
   "outputs": [
    {
     "data": {
      "text/html": [
       "<div>\n",
       "<style scoped>\n",
       "    .dataframe tbody tr th:only-of-type {\n",
       "        vertical-align: middle;\n",
       "    }\n",
       "\n",
       "    .dataframe tbody tr th {\n",
       "        vertical-align: top;\n",
       "    }\n",
       "\n",
       "    .dataframe thead th {\n",
       "        text-align: right;\n",
       "    }\n",
       "</style>\n",
       "<table border=\"1\" class=\"dataframe\">\n",
       "  <thead>\n",
       "    <tr style=\"text-align: right;\">\n",
       "      <th></th>\n",
       "      <th>mean_price_normed</th>\n",
       "      <th>median_stars</th>\n",
       "    </tr>\n",
       "    <tr>\n",
       "      <th>lastname</th>\n",
       "      <th></th>\n",
       "      <th></th>\n",
       "    </tr>\n",
       "  </thead>\n",
       "  <tbody>\n",
       "    <tr>\n",
       "      <th>ADAMS</th>\n",
       "      <td>1.848446</td>\n",
       "      <td>2.5</td>\n",
       "    </tr>\n",
       "    <tr>\n",
       "      <th>ALEXANDER</th>\n",
       "      <td>0.823597</td>\n",
       "      <td>4.5</td>\n",
       "    </tr>\n",
       "    <tr>\n",
       "      <th>ALLEN</th>\n",
       "      <td>0.408357</td>\n",
       "      <td>4.0</td>\n",
       "    </tr>\n",
       "    <tr>\n",
       "      <th>ALVAREZ</th>\n",
       "      <td>-0.311913</td>\n",
       "      <td>3.0</td>\n",
       "    </tr>\n",
       "    <tr>\n",
       "      <th>ANDERSON</th>\n",
       "      <td>-1.037147</td>\n",
       "      <td>2.0</td>\n",
       "    </tr>\n",
       "  </tbody>\n",
       "</table>\n",
       "</div>"
      ],
      "text/plain": [
       "           mean_price_normed  median_stars\n",
       "lastname                                  \n",
       "ADAMS               1.848446           2.5\n",
       "ALEXANDER           0.823597           4.5\n",
       "ALLEN               0.408357           4.0\n",
       "ALVAREZ            -0.311913           3.0\n",
       "ANDERSON           -1.037147           2.0"
      ]
     },
     "execution_count": 35,
     "metadata": {},
     "output_type": "execute_result"
    }
   ],
   "source": [
    "dfe.head()"
   ]
  },
  {
   "cell_type": "code",
   "execution_count": 36,
   "metadata": {
    "slideshow": {
     "slide_type": "fragment"
    }
   },
   "outputs": [],
   "source": [
    "# again, depending on model, may or may not need to normalize\n",
    "dfe['median_stars_normed'] = (dfe.median_stars.values / dfe.median_stars.mean()) / dfe.median_stars.std()\n",
    "dfe.drop('median_stars',axis=1,inplace=True)"
   ]
  },
  {
   "cell_type": "code",
   "execution_count": 37,
   "metadata": {
    "slideshow": {
     "slide_type": "slide"
    }
   },
   "outputs": [
    {
     "data": {
      "text/html": [
       "<div>\n",
       "<style scoped>\n",
       "    .dataframe tbody tr th:only-of-type {\n",
       "        vertical-align: middle;\n",
       "    }\n",
       "\n",
       "    .dataframe tbody tr th {\n",
       "        vertical-align: top;\n",
       "    }\n",
       "\n",
       "    .dataframe thead th {\n",
       "        text-align: right;\n",
       "    }\n",
       "</style>\n",
       "<table border=\"1\" class=\"dataframe\">\n",
       "  <thead>\n",
       "    <tr style=\"text-align: right;\">\n",
       "      <th></th>\n",
       "      <th>mean_price_normed</th>\n",
       "      <th>median_stars_normed</th>\n",
       "    </tr>\n",
       "    <tr>\n",
       "      <th>lastname</th>\n",
       "      <th></th>\n",
       "      <th></th>\n",
       "    </tr>\n",
       "  </thead>\n",
       "  <tbody>\n",
       "    <tr>\n",
       "      <th>ADAMS</th>\n",
       "      <td>1.848446</td>\n",
       "      <td>0.723909</td>\n",
       "    </tr>\n",
       "    <tr>\n",
       "      <th>ALEXANDER</th>\n",
       "      <td>0.823597</td>\n",
       "      <td>1.303037</td>\n",
       "    </tr>\n",
       "    <tr>\n",
       "      <th>ALLEN</th>\n",
       "      <td>0.408357</td>\n",
       "      <td>1.158255</td>\n",
       "    </tr>\n",
       "    <tr>\n",
       "      <th>ALVAREZ</th>\n",
       "      <td>-0.311913</td>\n",
       "      <td>0.868691</td>\n",
       "    </tr>\n",
       "    <tr>\n",
       "      <th>ANDERSON</th>\n",
       "      <td>-1.037147</td>\n",
       "      <td>0.579128</td>\n",
       "    </tr>\n",
       "  </tbody>\n",
       "</table>\n",
       "</div>"
      ],
      "text/plain": [
       "           mean_price_normed  median_stars_normed\n",
       "lastname                                         \n",
       "ADAMS               1.848446             0.723909\n",
       "ALEXANDER           0.823597             1.303037\n",
       "ALLEN               0.408357             1.158255\n",
       "ALVAREZ            -0.311913             0.868691\n",
       "ANDERSON           -1.037147             0.579128"
      ]
     },
     "execution_count": 37,
     "metadata": {},
     "output_type": "execute_result"
    }
   ],
   "source": [
    "dfe.head()"
   ]
  },
  {
   "cell_type": "markdown",
   "metadata": {},
   "source": [
    "### Create Favorite Flower Dummies"
   ]
  },
  {
   "cell_type": "code",
   "execution_count": 38,
   "metadata": {},
   "outputs": [
    {
     "data": {
      "text/html": [
       "<div>\n",
       "<style scoped>\n",
       "    .dataframe tbody tr th:only-of-type {\n",
       "        vertical-align: middle;\n",
       "    }\n",
       "\n",
       "    .dataframe tbody tr th {\n",
       "        vertical-align: top;\n",
       "    }\n",
       "\n",
       "    .dataframe thead th {\n",
       "        text-align: right;\n",
       "    }\n",
       "</style>\n",
       "<table border=\"1\" class=\"dataframe\">\n",
       "  <thead>\n",
       "    <tr style=\"text-align: right;\">\n",
       "      <th></th>\n",
       "      <th>ff_carnation</th>\n",
       "      <th>ff_daffodil</th>\n",
       "      <th>ff_daisy</th>\n",
       "      <th>ff_gardenia</th>\n",
       "      <th>ff_gerbera</th>\n",
       "      <th>ff_iris</th>\n",
       "      <th>ff_jasmine</th>\n",
       "      <th>ff_lilac</th>\n",
       "      <th>ff_orchid</th>\n",
       "      <th>ff_rose</th>\n",
       "      <th>ff_sunflower</th>\n",
       "      <th>ff_tulip</th>\n",
       "    </tr>\n",
       "  </thead>\n",
       "  <tbody>\n",
       "    <tr>\n",
       "      <th>0</th>\n",
       "      <td>0</td>\n",
       "      <td>0</td>\n",
       "      <td>0</td>\n",
       "      <td>0</td>\n",
       "      <td>0</td>\n",
       "      <td>1</td>\n",
       "      <td>0</td>\n",
       "      <td>0</td>\n",
       "      <td>0</td>\n",
       "      <td>0</td>\n",
       "      <td>0</td>\n",
       "      <td>0</td>\n",
       "    </tr>\n",
       "    <tr>\n",
       "      <th>2</th>\n",
       "      <td>1</td>\n",
       "      <td>0</td>\n",
       "      <td>0</td>\n",
       "      <td>0</td>\n",
       "      <td>0</td>\n",
       "      <td>0</td>\n",
       "      <td>0</td>\n",
       "      <td>0</td>\n",
       "      <td>0</td>\n",
       "      <td>0</td>\n",
       "      <td>0</td>\n",
       "      <td>0</td>\n",
       "    </tr>\n",
       "    <tr>\n",
       "      <th>4</th>\n",
       "      <td>1</td>\n",
       "      <td>0</td>\n",
       "      <td>0</td>\n",
       "      <td>0</td>\n",
       "      <td>0</td>\n",
       "      <td>0</td>\n",
       "      <td>0</td>\n",
       "      <td>0</td>\n",
       "      <td>0</td>\n",
       "      <td>0</td>\n",
       "      <td>0</td>\n",
       "      <td>0</td>\n",
       "    </tr>\n",
       "    <tr>\n",
       "      <th>5</th>\n",
       "      <td>0</td>\n",
       "      <td>0</td>\n",
       "      <td>0</td>\n",
       "      <td>0</td>\n",
       "      <td>1</td>\n",
       "      <td>0</td>\n",
       "      <td>0</td>\n",
       "      <td>0</td>\n",
       "      <td>0</td>\n",
       "      <td>0</td>\n",
       "      <td>0</td>\n",
       "      <td>0</td>\n",
       "    </tr>\n",
       "    <tr>\n",
       "      <th>7</th>\n",
       "      <td>0</td>\n",
       "      <td>0</td>\n",
       "      <td>0</td>\n",
       "      <td>0</td>\n",
       "      <td>1</td>\n",
       "      <td>0</td>\n",
       "      <td>0</td>\n",
       "      <td>0</td>\n",
       "      <td>0</td>\n",
       "      <td>0</td>\n",
       "      <td>0</td>\n",
       "      <td>0</td>\n",
       "    </tr>\n",
       "  </tbody>\n",
       "</table>\n",
       "</div>"
      ],
      "text/plain": [
       "   ff_carnation  ff_daffodil  ff_daisy  ff_gardenia  ff_gerbera  ff_iris  \\\n",
       "0             0            0         0            0           0        1   \n",
       "2             1            0         0            0           0        0   \n",
       "4             1            0         0            0           0        0   \n",
       "5             0            0         0            0           1        0   \n",
       "7             0            0         0            0           1        0   \n",
       "\n",
       "   ff_jasmine  ff_lilac  ff_orchid  ff_rose  ff_sunflower  ff_tulip  \n",
       "0           0         0          0        0             0         0  \n",
       "2           0         0          0        0             0         0  \n",
       "4           0         0          0        0             0         0  \n",
       "5           0         0          0        0             0         0  \n",
       "7           0         0          0        0             0         0  "
      ]
     },
     "execution_count": 38,
     "metadata": {},
     "output_type": "execute_result"
    }
   ],
   "source": [
    "# transform favorite_flower into One Hot Encoding\n",
    "flower_dummies = pd.get_dummies(df.favorite_flower, prefix='ff')\n",
    "flower_dummies.head()"
   ]
  },
  {
   "cell_type": "code",
   "execution_count": 39,
   "metadata": {},
   "outputs": [
    {
     "data": {
      "text/html": [
       "<div>\n",
       "<style scoped>\n",
       "    .dataframe tbody tr th:only-of-type {\n",
       "        vertical-align: middle;\n",
       "    }\n",
       "\n",
       "    .dataframe tbody tr th {\n",
       "        vertical-align: top;\n",
       "    }\n",
       "\n",
       "    .dataframe thead th {\n",
       "        text-align: right;\n",
       "    }\n",
       "</style>\n",
       "<table border=\"1\" class=\"dataframe\">\n",
       "  <thead>\n",
       "    <tr style=\"text-align: right;\">\n",
       "      <th></th>\n",
       "      <th>lastname</th>\n",
       "      <th>ff_carnation</th>\n",
       "      <th>ff_daffodil</th>\n",
       "      <th>ff_daisy</th>\n",
       "      <th>ff_gardenia</th>\n",
       "      <th>ff_gerbera</th>\n",
       "      <th>ff_iris</th>\n",
       "      <th>ff_jasmine</th>\n",
       "      <th>ff_lilac</th>\n",
       "      <th>ff_orchid</th>\n",
       "      <th>ff_rose</th>\n",
       "      <th>ff_sunflower</th>\n",
       "      <th>ff_tulip</th>\n",
       "    </tr>\n",
       "  </thead>\n",
       "  <tbody>\n",
       "    <tr>\n",
       "      <th>0</th>\n",
       "      <td>PERKINS</td>\n",
       "      <td>0</td>\n",
       "      <td>0</td>\n",
       "      <td>0</td>\n",
       "      <td>0</td>\n",
       "      <td>0</td>\n",
       "      <td>1</td>\n",
       "      <td>0</td>\n",
       "      <td>0</td>\n",
       "      <td>0</td>\n",
       "      <td>0</td>\n",
       "      <td>0</td>\n",
       "      <td>0</td>\n",
       "    </tr>\n",
       "    <tr>\n",
       "      <th>2</th>\n",
       "      <td>WILLIAMSON</td>\n",
       "      <td>1</td>\n",
       "      <td>0</td>\n",
       "      <td>0</td>\n",
       "      <td>0</td>\n",
       "      <td>0</td>\n",
       "      <td>0</td>\n",
       "      <td>0</td>\n",
       "      <td>0</td>\n",
       "      <td>0</td>\n",
       "      <td>0</td>\n",
       "      <td>0</td>\n",
       "      <td>0</td>\n",
       "    </tr>\n",
       "    <tr>\n",
       "      <th>4</th>\n",
       "      <td>RHODES</td>\n",
       "      <td>1</td>\n",
       "      <td>0</td>\n",
       "      <td>0</td>\n",
       "      <td>0</td>\n",
       "      <td>0</td>\n",
       "      <td>0</td>\n",
       "      <td>0</td>\n",
       "      <td>0</td>\n",
       "      <td>0</td>\n",
       "      <td>0</td>\n",
       "      <td>0</td>\n",
       "      <td>0</td>\n",
       "    </tr>\n",
       "    <tr>\n",
       "      <th>5</th>\n",
       "      <td>NGUYEN</td>\n",
       "      <td>0</td>\n",
       "      <td>0</td>\n",
       "      <td>0</td>\n",
       "      <td>0</td>\n",
       "      <td>1</td>\n",
       "      <td>0</td>\n",
       "      <td>0</td>\n",
       "      <td>0</td>\n",
       "      <td>0</td>\n",
       "      <td>0</td>\n",
       "      <td>0</td>\n",
       "      <td>0</td>\n",
       "    </tr>\n",
       "    <tr>\n",
       "      <th>7</th>\n",
       "      <td>GRAVES</td>\n",
       "      <td>0</td>\n",
       "      <td>0</td>\n",
       "      <td>0</td>\n",
       "      <td>0</td>\n",
       "      <td>1</td>\n",
       "      <td>0</td>\n",
       "      <td>0</td>\n",
       "      <td>0</td>\n",
       "      <td>0</td>\n",
       "      <td>0</td>\n",
       "      <td>0</td>\n",
       "      <td>0</td>\n",
       "    </tr>\n",
       "  </tbody>\n",
       "</table>\n",
       "</div>"
      ],
      "text/plain": [
       "     lastname  ff_carnation  ff_daffodil  ff_daisy  ff_gardenia  ff_gerbera  \\\n",
       "0     PERKINS             0            0         0            0           0   \n",
       "2  WILLIAMSON             1            0         0            0           0   \n",
       "4      RHODES             1            0         0            0           0   \n",
       "5      NGUYEN             0            0         0            0           1   \n",
       "7      GRAVES             0            0         0            0           1   \n",
       "\n",
       "   ff_iris  ff_jasmine  ff_lilac  ff_orchid  ff_rose  ff_sunflower  ff_tulip  \n",
       "0        1           0         0          0        0             0         0  \n",
       "2        0           0         0          0        0             0         0  \n",
       "4        0           0         0          0        0             0         0  \n",
       "5        0           0         0          0        0             0         0  \n",
       "7        0           0         0          0        0             0         0  "
      ]
     },
     "execution_count": 39,
     "metadata": {},
     "output_type": "execute_result"
    }
   ],
   "source": [
    "# add the last name column using index\n",
    "flower_dummies = df[['lastname']].join(flower_dummies)\n",
    "flower_dummies.head()"
   ]
  },
  {
   "cell_type": "code",
   "execution_count": 40,
   "metadata": {
    "slideshow": {
     "slide_type": "slide"
    }
   },
   "outputs": [],
   "source": [
    "# group the flower columns by last name, aggregating by sum\n",
    "flower_dummies = flower_dummies.groupby('lastname').sum()"
   ]
  },
  {
   "cell_type": "code",
   "execution_count": 41,
   "metadata": {},
   "outputs": [],
   "source": [
    "# simplify by transforming count of flower into 0,1\n",
    "flower_dummies = flower_dummies.applymap(lambda x: int(x > 0))"
   ]
  },
  {
   "cell_type": "code",
   "execution_count": 42,
   "metadata": {},
   "outputs": [],
   "source": [
    "# join to our engineered values on lastname\n",
    "dfe = dfe.join(flower_dummies)"
   ]
  },
  {
   "cell_type": "code",
   "execution_count": 43,
   "metadata": {
    "slideshow": {
     "slide_type": "fragment"
    }
   },
   "outputs": [
    {
     "data": {
      "text/html": [
       "<div>\n",
       "<style scoped>\n",
       "    .dataframe tbody tr th:only-of-type {\n",
       "        vertical-align: middle;\n",
       "    }\n",
       "\n",
       "    .dataframe tbody tr th {\n",
       "        vertical-align: top;\n",
       "    }\n",
       "\n",
       "    .dataframe thead th {\n",
       "        text-align: right;\n",
       "    }\n",
       "</style>\n",
       "<table border=\"1\" class=\"dataframe\">\n",
       "  <thead>\n",
       "    <tr style=\"text-align: right;\">\n",
       "      <th></th>\n",
       "      <th>mean_price_normed</th>\n",
       "      <th>median_stars_normed</th>\n",
       "      <th>ff_carnation</th>\n",
       "      <th>ff_daffodil</th>\n",
       "      <th>ff_daisy</th>\n",
       "      <th>ff_gardenia</th>\n",
       "      <th>ff_gerbera</th>\n",
       "      <th>ff_iris</th>\n",
       "      <th>ff_jasmine</th>\n",
       "      <th>ff_lilac</th>\n",
       "      <th>ff_orchid</th>\n",
       "      <th>ff_rose</th>\n",
       "      <th>ff_sunflower</th>\n",
       "      <th>ff_tulip</th>\n",
       "    </tr>\n",
       "    <tr>\n",
       "      <th>lastname</th>\n",
       "      <th></th>\n",
       "      <th></th>\n",
       "      <th></th>\n",
       "      <th></th>\n",
       "      <th></th>\n",
       "      <th></th>\n",
       "      <th></th>\n",
       "      <th></th>\n",
       "      <th></th>\n",
       "      <th></th>\n",
       "      <th></th>\n",
       "      <th></th>\n",
       "      <th></th>\n",
       "      <th></th>\n",
       "    </tr>\n",
       "  </thead>\n",
       "  <tbody>\n",
       "    <tr>\n",
       "      <th>ADAMS</th>\n",
       "      <td>1.848446</td>\n",
       "      <td>0.723909</td>\n",
       "      <td>0</td>\n",
       "      <td>0</td>\n",
       "      <td>0</td>\n",
       "      <td>0</td>\n",
       "      <td>0</td>\n",
       "      <td>0</td>\n",
       "      <td>0</td>\n",
       "      <td>0</td>\n",
       "      <td>1</td>\n",
       "      <td>0</td>\n",
       "      <td>0</td>\n",
       "      <td>0</td>\n",
       "    </tr>\n",
       "    <tr>\n",
       "      <th>ALEXANDER</th>\n",
       "      <td>0.823597</td>\n",
       "      <td>1.303037</td>\n",
       "      <td>0</td>\n",
       "      <td>0</td>\n",
       "      <td>0</td>\n",
       "      <td>0</td>\n",
       "      <td>0</td>\n",
       "      <td>0</td>\n",
       "      <td>0</td>\n",
       "      <td>0</td>\n",
       "      <td>0</td>\n",
       "      <td>0</td>\n",
       "      <td>1</td>\n",
       "      <td>0</td>\n",
       "    </tr>\n",
       "    <tr>\n",
       "      <th>ALLEN</th>\n",
       "      <td>0.408357</td>\n",
       "      <td>1.158255</td>\n",
       "      <td>0</td>\n",
       "      <td>0</td>\n",
       "      <td>0</td>\n",
       "      <td>0</td>\n",
       "      <td>0</td>\n",
       "      <td>0</td>\n",
       "      <td>0</td>\n",
       "      <td>0</td>\n",
       "      <td>0</td>\n",
       "      <td>1</td>\n",
       "      <td>0</td>\n",
       "      <td>0</td>\n",
       "    </tr>\n",
       "    <tr>\n",
       "      <th>ALVAREZ</th>\n",
       "      <td>-0.311913</td>\n",
       "      <td>0.868691</td>\n",
       "      <td>0</td>\n",
       "      <td>0</td>\n",
       "      <td>0</td>\n",
       "      <td>0</td>\n",
       "      <td>0</td>\n",
       "      <td>0</td>\n",
       "      <td>0</td>\n",
       "      <td>0</td>\n",
       "      <td>1</td>\n",
       "      <td>0</td>\n",
       "      <td>0</td>\n",
       "      <td>0</td>\n",
       "    </tr>\n",
       "    <tr>\n",
       "      <th>ANDERSON</th>\n",
       "      <td>-1.037147</td>\n",
       "      <td>0.579128</td>\n",
       "      <td>0</td>\n",
       "      <td>0</td>\n",
       "      <td>1</td>\n",
       "      <td>0</td>\n",
       "      <td>0</td>\n",
       "      <td>0</td>\n",
       "      <td>0</td>\n",
       "      <td>0</td>\n",
       "      <td>0</td>\n",
       "      <td>0</td>\n",
       "      <td>0</td>\n",
       "      <td>0</td>\n",
       "    </tr>\n",
       "  </tbody>\n",
       "</table>\n",
       "</div>"
      ],
      "text/plain": [
       "           mean_price_normed  median_stars_normed  ff_carnation  ff_daffodil  \\\n",
       "lastname                                                                       \n",
       "ADAMS               1.848446             0.723909             0            0   \n",
       "ALEXANDER           0.823597             1.303037             0            0   \n",
       "ALLEN               0.408357             1.158255             0            0   \n",
       "ALVAREZ            -0.311913             0.868691             0            0   \n",
       "ANDERSON           -1.037147             0.579128             0            0   \n",
       "\n",
       "           ff_daisy  ff_gardenia  ff_gerbera  ff_iris  ff_jasmine  ff_lilac  \\\n",
       "lastname                                                                      \n",
       "ADAMS             0            0           0        0           0         0   \n",
       "ALEXANDER         0            0           0        0           0         0   \n",
       "ALLEN             0            0           0        0           0         0   \n",
       "ALVAREZ           0            0           0        0           0         0   \n",
       "ANDERSON          1            0           0        0           0         0   \n",
       "\n",
       "           ff_orchid  ff_rose  ff_sunflower  ff_tulip  \n",
       "lastname                                               \n",
       "ADAMS              1        0             0         0  \n",
       "ALEXANDER          0        0             1         0  \n",
       "ALLEN              0        1             0         0  \n",
       "ALVAREZ            1        0             0         0  \n",
       "ANDERSON           0        0             0         0  "
      ]
     },
     "execution_count": 43,
     "metadata": {},
     "output_type": "execute_result"
    }
   ],
   "source": [
    "dfe.head()"
   ]
  },
  {
   "cell_type": "markdown",
   "metadata": {},
   "source": [
    "## Create Labels"
   ]
  },
  {
   "cell_type": "code",
   "execution_count": 44,
   "metadata": {
    "slideshow": {
     "slide_type": "slide"
    }
   },
   "outputs": [],
   "source": [
    "# generate label for repeat customer\n",
    "labels = df.lastname.value_counts().apply(lambda x: int(x > 1))"
   ]
  },
  {
   "cell_type": "code",
   "execution_count": 45,
   "metadata": {
    "slideshow": {
     "slide_type": "fragment"
    }
   },
   "outputs": [
    {
     "data": {
      "text/plain": [
       "DANIELS     1\n",
       "JACOBS      1\n",
       "BURKE       1\n",
       "CALDWELL    1\n",
       "HUNTER      1\n",
       "Name: lastname, dtype: int64"
      ]
     },
     "execution_count": 45,
     "metadata": {},
     "output_type": "execute_result"
    }
   ],
   "source": [
    "labels.head()"
   ]
  },
  {
   "cell_type": "code",
   "execution_count": 46,
   "metadata": {
    "slideshow": {
     "slide_type": "fragment"
    }
   },
   "outputs": [
    {
     "data": {
      "text/html": [
       "<div>\n",
       "<style scoped>\n",
       "    .dataframe tbody tr th:only-of-type {\n",
       "        vertical-align: middle;\n",
       "    }\n",
       "\n",
       "    .dataframe tbody tr th {\n",
       "        vertical-align: top;\n",
       "    }\n",
       "\n",
       "    .dataframe thead th {\n",
       "        text-align: right;\n",
       "    }\n",
       "</style>\n",
       "<table border=\"1\" class=\"dataframe\">\n",
       "  <thead>\n",
       "    <tr style=\"text-align: right;\">\n",
       "      <th></th>\n",
       "      <th>mean_price_normed</th>\n",
       "      <th>median_stars_normed</th>\n",
       "      <th>ff_carnation</th>\n",
       "      <th>ff_daffodil</th>\n",
       "      <th>ff_daisy</th>\n",
       "      <th>ff_gardenia</th>\n",
       "      <th>ff_gerbera</th>\n",
       "      <th>ff_iris</th>\n",
       "      <th>ff_jasmine</th>\n",
       "      <th>ff_lilac</th>\n",
       "      <th>ff_orchid</th>\n",
       "      <th>ff_rose</th>\n",
       "      <th>ff_sunflower</th>\n",
       "      <th>ff_tulip</th>\n",
       "      <th>reorder_label</th>\n",
       "    </tr>\n",
       "    <tr>\n",
       "      <th>lastname</th>\n",
       "      <th></th>\n",
       "      <th></th>\n",
       "      <th></th>\n",
       "      <th></th>\n",
       "      <th></th>\n",
       "      <th></th>\n",
       "      <th></th>\n",
       "      <th></th>\n",
       "      <th></th>\n",
       "      <th></th>\n",
       "      <th></th>\n",
       "      <th></th>\n",
       "      <th></th>\n",
       "      <th></th>\n",
       "      <th></th>\n",
       "    </tr>\n",
       "  </thead>\n",
       "  <tbody>\n",
       "    <tr>\n",
       "      <th>ADAMS</th>\n",
       "      <td>1.848446</td>\n",
       "      <td>0.723909</td>\n",
       "      <td>0</td>\n",
       "      <td>0</td>\n",
       "      <td>0</td>\n",
       "      <td>0</td>\n",
       "      <td>0</td>\n",
       "      <td>0</td>\n",
       "      <td>0</td>\n",
       "      <td>0</td>\n",
       "      <td>1</td>\n",
       "      <td>0</td>\n",
       "      <td>0</td>\n",
       "      <td>0</td>\n",
       "      <td>1</td>\n",
       "    </tr>\n",
       "    <tr>\n",
       "      <th>ALEXANDER</th>\n",
       "      <td>0.823597</td>\n",
       "      <td>1.303037</td>\n",
       "      <td>0</td>\n",
       "      <td>0</td>\n",
       "      <td>0</td>\n",
       "      <td>0</td>\n",
       "      <td>0</td>\n",
       "      <td>0</td>\n",
       "      <td>0</td>\n",
       "      <td>0</td>\n",
       "      <td>0</td>\n",
       "      <td>0</td>\n",
       "      <td>1</td>\n",
       "      <td>0</td>\n",
       "      <td>1</td>\n",
       "    </tr>\n",
       "    <tr>\n",
       "      <th>ALLEN</th>\n",
       "      <td>0.408357</td>\n",
       "      <td>1.158255</td>\n",
       "      <td>0</td>\n",
       "      <td>0</td>\n",
       "      <td>0</td>\n",
       "      <td>0</td>\n",
       "      <td>0</td>\n",
       "      <td>0</td>\n",
       "      <td>0</td>\n",
       "      <td>0</td>\n",
       "      <td>0</td>\n",
       "      <td>1</td>\n",
       "      <td>0</td>\n",
       "      <td>0</td>\n",
       "      <td>1</td>\n",
       "    </tr>\n",
       "    <tr>\n",
       "      <th>ALVAREZ</th>\n",
       "      <td>-0.311913</td>\n",
       "      <td>0.868691</td>\n",
       "      <td>0</td>\n",
       "      <td>0</td>\n",
       "      <td>0</td>\n",
       "      <td>0</td>\n",
       "      <td>0</td>\n",
       "      <td>0</td>\n",
       "      <td>0</td>\n",
       "      <td>0</td>\n",
       "      <td>1</td>\n",
       "      <td>0</td>\n",
       "      <td>0</td>\n",
       "      <td>0</td>\n",
       "      <td>0</td>\n",
       "    </tr>\n",
       "    <tr>\n",
       "      <th>ANDERSON</th>\n",
       "      <td>-1.037147</td>\n",
       "      <td>0.579128</td>\n",
       "      <td>0</td>\n",
       "      <td>0</td>\n",
       "      <td>1</td>\n",
       "      <td>0</td>\n",
       "      <td>0</td>\n",
       "      <td>0</td>\n",
       "      <td>0</td>\n",
       "      <td>0</td>\n",
       "      <td>0</td>\n",
       "      <td>0</td>\n",
       "      <td>0</td>\n",
       "      <td>0</td>\n",
       "      <td>1</td>\n",
       "    </tr>\n",
       "  </tbody>\n",
       "</table>\n",
       "</div>"
      ],
      "text/plain": [
       "           mean_price_normed  median_stars_normed  ff_carnation  ff_daffodil  \\\n",
       "lastname                                                                       \n",
       "ADAMS               1.848446             0.723909             0            0   \n",
       "ALEXANDER           0.823597             1.303037             0            0   \n",
       "ALLEN               0.408357             1.158255             0            0   \n",
       "ALVAREZ            -0.311913             0.868691             0            0   \n",
       "ANDERSON           -1.037147             0.579128             0            0   \n",
       "\n",
       "           ff_daisy  ff_gardenia  ff_gerbera  ff_iris  ff_jasmine  ff_lilac  \\\n",
       "lastname                                                                      \n",
       "ADAMS             0            0           0        0           0         0   \n",
       "ALEXANDER         0            0           0        0           0         0   \n",
       "ALLEN             0            0           0        0           0         0   \n",
       "ALVAREZ           0            0           0        0           0         0   \n",
       "ANDERSON          1            0           0        0           0         0   \n",
       "\n",
       "           ff_orchid  ff_rose  ff_sunflower  ff_tulip  reorder_label  \n",
       "lastname                                                              \n",
       "ADAMS              1        0             0         0              1  \n",
       "ALEXANDER          0        0             1         0              1  \n",
       "ALLEN              0        1             0         0              1  \n",
       "ALVAREZ            1        0             0         0              0  \n",
       "ANDERSON           0        0             0         0              1  "
      ]
     },
     "execution_count": 46,
     "metadata": {},
     "output_type": "execute_result"
    }
   ],
   "source": [
    "# join labels to engineered features\n",
    "labels.name = 'reorder_label'\n",
    "\n",
    "dfe = dfe.join(labels)\n",
    "\n",
    "dfe.head()"
   ]
  },
  {
   "cell_type": "markdown",
   "metadata": {},
   "source": [
    "## Train Classifier and Evaluate"
   ]
  },
  {
   "cell_type": "code",
   "execution_count": 47,
   "metadata": {},
   "outputs": [],
   "source": [
    "# get data and label column names\n",
    "data_cols = dfe.columns[:-1]\n",
    "label_col = dfe.columns[-1]"
   ]
  },
  {
   "cell_type": "code",
   "execution_count": 48,
   "metadata": {
    "slideshow": {
     "slide_type": "fragment"
    }
   },
   "outputs": [
    {
     "data": {
      "text/plain": [
       "Index(['mean_price_normed', 'median_stars_normed', 'ff_carnation',\n",
       "       'ff_daffodil', 'ff_daisy', 'ff_gardenia', 'ff_gerbera', 'ff_iris',\n",
       "       'ff_jasmine', 'ff_lilac', 'ff_orchid', 'ff_rose', 'ff_sunflower',\n",
       "       'ff_tulip'],\n",
       "      dtype='object')"
      ]
     },
     "execution_count": 48,
     "metadata": {},
     "output_type": "execute_result"
    }
   ],
   "source": [
    "data_cols"
   ]
  },
  {
   "cell_type": "code",
   "execution_count": 49,
   "metadata": {
    "slideshow": {
     "slide_type": "fragment"
    }
   },
   "outputs": [
    {
     "data": {
      "text/plain": [
       "'reorder_label'"
      ]
     },
     "execution_count": 49,
     "metadata": {},
     "output_type": "execute_result"
    }
   ],
   "source": [
    "label_col"
   ]
  },
  {
   "cell_type": "code",
   "execution_count": 50,
   "metadata": {
    "slideshow": {
     "slide_type": "slide"
    }
   },
   "outputs": [],
   "source": [
    "# importing here for demonstration\n",
    "from sklearn.ensemble import RandomForestClassifier\n",
    "from sklearn.model_selection import cross_val_score\n",
    "from sklearn.model_selection import train_test_split"
   ]
  },
  {
   "cell_type": "code",
   "execution_count": 51,
   "metadata": {
    "slideshow": {
     "slide_type": "fragment"
    }
   },
   "outputs": [
    {
     "name": "stdout",
     "output_type": "stream",
     "text": [
      "X_train.shape = (201, 14), y_train.shape = (201,)\n",
      "X_test.shape = (51, 14), y_train.shape = (51,)\n"
     ]
    }
   ],
   "source": [
    "# split into train and test (hold out) sets (using sklearn)\n",
    "X_train, X_test, y_train, y_test = train_test_split(dfe.loc[:,data_cols],\n",
    "                                                    dfe.loc[:,label_col],\n",
    "                                                    test_size=0.2,\n",
    "                                                    stratify=dfe.loc[:,label_col])\n",
    "print(f'X_train.shape = {X_train.shape}, y_train.shape = {y_train.shape}')\n",
    "print(f'X_test.shape = {X_test.shape}, y_train.shape = {y_test.shape}')"
   ]
  },
  {
   "cell_type": "code",
   "execution_count": 52,
   "metadata": {
    "slideshow": {
     "slide_type": "slide"
    }
   },
   "outputs": [
    {
     "data": {
      "text/plain": [
       "array([0.74626866, 0.79104478, 0.82089552])"
      ]
     },
     "execution_count": 52,
     "metadata": {},
     "output_type": "execute_result"
    }
   ],
   "source": [
    "# perform cross validation to tune parameters (not done here)\n",
    "rf = RandomForestClassifier()\n",
    "cv_scores = cross_val_score(rf, X_train, y_train, cv=3)\n",
    "cv_scores"
   ]
  },
  {
   "cell_type": "code",
   "execution_count": 53,
   "metadata": {
    "slideshow": {
     "slide_type": "fragment"
    }
   },
   "outputs": [
    {
     "name": "stdout",
     "output_type": "stream",
     "text": [
      "mean cv accuracy: 0.79 +- 0.06\n"
     ]
    }
   ],
   "source": [
    "print(f'mean cv accuracy: {np.mean(cv_scores):0.2f} +- {np.std(cv_scores)*2:0.2f}')"
   ]
  },
  {
   "cell_type": "code",
   "execution_count": 54,
   "metadata": {
    "slideshow": {
     "slide_type": "fragment"
    }
   },
   "outputs": [
    {
     "name": "stdout",
     "output_type": "stream",
     "text": [
      "test set accuracy: 0.647\n"
     ]
    }
   ],
   "source": [
    "# fit on training data and score on test\n",
    "rf.fit(X_train,y_train)\n",
    "print('test set accuracy: {:0.3f}'.format(rf.score(X_test,y_test)))"
   ]
  },
  {
   "cell_type": "markdown",
   "metadata": {},
   "source": [
    "### Which Features are Most Important?"
   ]
  },
  {
   "cell_type": "code",
   "execution_count": 55,
   "metadata": {
    "slideshow": {
     "slide_type": "slide"
    }
   },
   "outputs": [
    {
     "name": "stdout",
     "output_type": "stream",
     "text": [
      "mean_price_normed    : 0.601\n",
      "median_stars_normed  : 0.226\n",
      "ff_gardenia          : 0.021\n",
      "ff_sunflower         : 0.020\n",
      "ff_carnation         : 0.019\n",
      "ff_gerbera           : 0.017\n",
      "ff_lilac             : 0.015\n",
      "ff_tulip             : 0.015\n",
      "ff_daffodil          : 0.014\n",
      "ff_daisy             : 0.013\n",
      "ff_rose              : 0.013\n",
      "ff_iris              : 0.011\n",
      "ff_jasmine           : 0.008\n",
      "ff_orchid            : 0.007\n"
     ]
    }
   ],
   "source": [
    "for col,fi in sorted(list(zip(data_cols,rf.feature_importances_)),key=lambda x:x[1])[::-1]:\n",
    "    print(f'{col:20s} : {fi:0.3f}')"
   ]
  },
  {
   "cell_type": "markdown",
   "metadata": {
    "slideshow": {
     "slide_type": "slide"
    }
   },
   "source": [
    "### How well could we do just by guessing 1 for everyone?"
   ]
  },
  {
   "cell_type": "code",
   "execution_count": 56,
   "metadata": {
    "slideshow": {
     "slide_type": "slide"
    }
   },
   "outputs": [
    {
     "data": {
      "text/plain": [
       "0.71"
      ]
     },
     "execution_count": 56,
     "metadata": {},
     "output_type": "execute_result"
    }
   ],
   "source": [
    "((dfe.loc[:,label_col] == 1).sum() / len(dfe)).round(3)"
   ]
  }
 ],
 "metadata": {
  "kernelspec": {
   "display_name": "eods-s21",
   "language": "python",
   "name": "eods-s21"
  },
  "language_info": {
   "codemirror_mode": {
    "name": "ipython",
    "version": 3
   },
   "file_extension": ".py",
   "mimetype": "text/x-python",
   "name": "python",
   "nbconvert_exporter": "python",
   "pygments_lexer": "ipython3",
   "version": "3.8.5"
  },
  "nbpresent": {
   "slides": {
    "08efc919-a3bf-444e-a59e-8a81bb806462": {
     "id": "08efc919-a3bf-444e-a59e-8a81bb806462",
     "prev": "cc17e954-5b0f-4943-a73e-6dd39883477e",
     "regions": {
      "f5fec6eb-b112-45fa-a846-747ef3b0a7a1": {
       "attrs": {
        "height": 0.8,
        "width": 0.8,
        "x": 0.1,
        "y": 0.1
       },
       "content": {
        "cell": "53762eb2-9aa4-4b59-8986-37b91f9f269f",
        "part": "whole"
       },
       "id": "f5fec6eb-b112-45fa-a846-747ef3b0a7a1"
      }
     }
    },
    "0bef4fab-4ba7-45a2-be5e-ce59853b0aed": {
     "id": "0bef4fab-4ba7-45a2-be5e-ce59853b0aed",
     "prev": "9a32fb8e-0afa-4a2f-ae56-b154827051e0",
     "regions": {
      "40e74d05-76e7-4ed3-8b19-331437618ec0": {
       "attrs": {
        "height": 0.8,
        "width": 0.8,
        "x": 0.1,
        "y": 0.1
       },
       "content": {
        "cell": "60e19c32-2c29-44f3-a14d-eea662e1ef0c",
        "part": "whole"
       },
       "id": "40e74d05-76e7-4ed3-8b19-331437618ec0"
      }
     }
    },
    "0e13760e-461d-4783-8a79-8562b86cc1c6": {
     "id": "0e13760e-461d-4783-8a79-8562b86cc1c6",
     "prev": "5e74d8fc-400a-4697-ba47-89f9fa5d0356",
     "regions": {
      "eebb2ed2-c24a-41e4-b541-59ffb1a4e8bb": {
       "attrs": {
        "height": 0.8,
        "width": 0.8,
        "x": 0.1,
        "y": 0.1
       },
       "content": {
        "cell": "37412bb8-98d6-4eef-8e72-0fb5211e5f5b",
        "part": "whole"
       },
       "id": "eebb2ed2-c24a-41e4-b541-59ffb1a4e8bb"
      }
     }
    },
    "166949f6-6683-4bcb-81c6-7ebb3ce6408a": {
     "id": "166949f6-6683-4bcb-81c6-7ebb3ce6408a",
     "prev": "08efc919-a3bf-444e-a59e-8a81bb806462",
     "regions": {
      "680c1105-f5fc-43b1-8a7c-e9f016324b05": {
       "attrs": {
        "height": 0.8,
        "width": 0.8,
        "x": 0.1,
        "y": 0.1
       },
       "content": {
        "cell": "edeee317-3c50-4714-bbec-6cca26c2d518",
        "part": "whole"
       },
       "id": "680c1105-f5fc-43b1-8a7c-e9f016324b05"
      }
     }
    },
    "1fe97c07-6519-4182-b9c2-2f91e96af545": {
     "id": "1fe97c07-6519-4182-b9c2-2f91e96af545",
     "prev": "72763892-f5a9-4b56-a4e4-7b90f46cde1c",
     "regions": {
      "f1cd5728-e176-44f7-add7-f5c0d33c45a7": {
       "attrs": {
        "height": 0.8,
        "width": 0.8,
        "x": 0.1,
        "y": 0.1
       },
       "content": {
        "cell": "a8917322-8c7b-4748-b5ec-7924fd9e980c",
        "part": "whole"
       },
       "id": "f1cd5728-e176-44f7-add7-f5c0d33c45a7"
      }
     }
    },
    "26b41115-1f19-40a4-81bb-6b07e0f58f50": {
     "id": "26b41115-1f19-40a4-81bb-6b07e0f58f50",
     "prev": "28c44aa7-8b8a-4227-b84b-6ea0c77b109a",
     "regions": {
      "843d7f5a-7635-40d6-93d7-70e8ae2d3d0d": {
       "attrs": {
        "height": 0.8,
        "width": 0.8,
        "x": 0.1,
        "y": 0.1
       },
       "content": {
        "cell": "aa9ed3a1-af9a-4c21-a838-21be62634c9b",
        "part": "whole"
       },
       "id": "843d7f5a-7635-40d6-93d7-70e8ae2d3d0d"
      }
     }
    },
    "28c44aa7-8b8a-4227-b84b-6ea0c77b109a": {
     "id": "28c44aa7-8b8a-4227-b84b-6ea0c77b109a",
     "prev": "c6578ac5-c537-4311-9a4a-4d257244aea1",
     "regions": {
      "1aa37098-bb14-4e62-acb9-c5048d244cfc": {
       "attrs": {
        "height": 0.8,
        "width": 0.8,
        "x": 0.1,
        "y": 0.1
       },
       "content": {
        "cell": "66f9a163-6c6f-41f0-b230-8d320d00c88b",
        "part": "whole"
       },
       "id": "1aa37098-bb14-4e62-acb9-c5048d244cfc"
      }
     }
    },
    "3a5c8f56-5fdc-4471-b8a8-da7fd58ccc05": {
     "id": "3a5c8f56-5fdc-4471-b8a8-da7fd58ccc05",
     "prev": "3eb84012-0328-4f72-85e8-3655074514be",
     "regions": {
      "6cdba517-1b15-4f35-8c54-282a70ec60b5": {
       "attrs": {
        "height": 0.8,
        "width": 0.8,
        "x": 0.1,
        "y": 0.1
       },
       "content": {
        "cell": "057d2e68-422b-44ab-9abc-0fc3dea1c1d7",
        "part": "whole"
       },
       "id": "6cdba517-1b15-4f35-8c54-282a70ec60b5"
      }
     }
    },
    "3eb84012-0328-4f72-85e8-3655074514be": {
     "id": "3eb84012-0328-4f72-85e8-3655074514be",
     "prev": "166949f6-6683-4bcb-81c6-7ebb3ce6408a",
     "regions": {
      "9234fcfb-d1d6-415a-929d-5994777899ba": {
       "attrs": {
        "height": 0.8,
        "width": 0.8,
        "x": 0.1,
        "y": 0.1
       },
       "content": {
        "cell": "21e3f8d1-7a79-4970-8e75-e7eab3c2653a",
        "part": "whole"
       },
       "id": "9234fcfb-d1d6-415a-929d-5994777899ba"
      }
     }
    },
    "44cb1a79-0c3d-40b1-8c3a-e39a216f9098": {
     "id": "44cb1a79-0c3d-40b1-8c3a-e39a216f9098",
     "prev": "958ce141-2cb2-4bdf-a210-3655c5252b4d",
     "regions": {
      "a0b73501-2288-48d4-a357-837bdd6240ac": {
       "attrs": {
        "height": 0.8,
        "width": 0.8,
        "x": 0.1,
        "y": 0.1
       },
       "content": {
        "cell": "f516a627-4568-46c6-973e-afd337a2c972",
        "part": "whole"
       },
       "id": "a0b73501-2288-48d4-a357-837bdd6240ac"
      }
     }
    },
    "4536a947-8005-411e-a0a3-34f41e121619": {
     "id": "4536a947-8005-411e-a0a3-34f41e121619",
     "prev": "b3c746fe-4167-4dc9-b525-24fe0d20e671",
     "regions": {
      "cf561fee-e7ca-4cc7-a62b-5baf54029066": {
       "attrs": {
        "height": 0.8,
        "width": 0.8,
        "x": 0.1,
        "y": 0.1
       },
       "content": {
        "cell": "7397c4be-450c-49e5-bbab-76292836cd23",
        "part": "whole"
       },
       "id": "cf561fee-e7ca-4cc7-a62b-5baf54029066"
      }
     }
    },
    "5e74d8fc-400a-4697-ba47-89f9fa5d0356": {
     "id": "5e74d8fc-400a-4697-ba47-89f9fa5d0356",
     "prev": "26b41115-1f19-40a4-81bb-6b07e0f58f50",
     "regions": {
      "f20a111c-0058-490f-9026-f228efca1441": {
       "attrs": {
        "height": 0.8,
        "width": 0.8,
        "x": 0.1,
        "y": 0.1
       },
       "content": {
        "cell": "e4e8af64-7494-4f01-abf3-f2ab5972e823",
        "part": "whole"
       },
       "id": "f20a111c-0058-490f-9026-f228efca1441"
      }
     }
    },
    "5efa628c-01b4-4415-b70b-ebb384e5019c": {
     "id": "5efa628c-01b4-4415-b70b-ebb384e5019c",
     "prev": "7ce8dba7-7e11-4c2c-b2b5-a306996702de",
     "regions": {
      "ae5fac2e-d464-4df0-9f1f-cefe906ce98a": {
       "attrs": {
        "height": 0.8,
        "width": 0.8,
        "x": 0.1,
        "y": 0.1
       },
       "content": {
        "cell": "204fc3b2-905d-4fee-9e9a-80d0718a8ae1",
        "part": "whole"
       },
       "id": "ae5fac2e-d464-4df0-9f1f-cefe906ce98a"
      }
     }
    },
    "72763892-f5a9-4b56-a4e4-7b90f46cde1c": {
     "id": "72763892-f5a9-4b56-a4e4-7b90f46cde1c",
     "prev": "0e13760e-461d-4783-8a79-8562b86cc1c6",
     "regions": {
      "df91c8f0-5906-4588-b2f8-b21a1874e961": {
       "attrs": {
        "height": 0.8,
        "width": 0.8,
        "x": 0.1,
        "y": 0.1
       },
       "content": {
        "cell": "d97f9831-912b-4545-88dd-fd23cc1850fc",
        "part": "whole"
       },
       "id": "df91c8f0-5906-4588-b2f8-b21a1874e961"
      }
     }
    },
    "73cfb512-6f9f-4550-b553-2ace2aa999f8": {
     "id": "73cfb512-6f9f-4550-b553-2ace2aa999f8",
     "prev": "1fe97c07-6519-4182-b9c2-2f91e96af545",
     "regions": {
      "2c50fac5-edb7-4323-9993-c4b4d30b9e9f": {
       "attrs": {
        "height": 0.8,
        "width": 0.8,
        "x": 0.1,
        "y": 0.1
       },
       "content": {
        "cell": "e1a5852c-9886-401d-8f97-b268dfc8acee",
        "part": "whole"
       },
       "id": "2c50fac5-edb7-4323-9993-c4b4d30b9e9f"
      }
     }
    },
    "786d3889-d865-4e22-92be-94334bf1b5e5": {
     "id": "786d3889-d865-4e22-92be-94334bf1b5e5",
     "prev": "788bcf63-5bc1-4524-9125-f25f39163b47",
     "regions": {
      "3de3109b-bc8c-4d80-ae2a-c45fdcba8887": {
       "attrs": {
        "height": 0.8,
        "width": 0.8,
        "x": 0.1,
        "y": 0.1
       },
       "content": {
        "cell": "b71b3c73-9491-44e5-8fee-93b9c24a84d9",
        "part": "whole"
       },
       "id": "3de3109b-bc8c-4d80-ae2a-c45fdcba8887"
      }
     }
    },
    "788bcf63-5bc1-4524-9125-f25f39163b47": {
     "id": "788bcf63-5bc1-4524-9125-f25f39163b47",
     "prev": "0bef4fab-4ba7-45a2-be5e-ce59853b0aed",
     "regions": {
      "977262b1-f553-4dcc-87ca-d31bafc67e54": {
       "attrs": {
        "height": 0.8,
        "width": 0.8,
        "x": 0.1,
        "y": 0.1
       },
       "content": {
        "cell": "e1a378cc-5906-4b72-b761-f7dffddd7606",
        "part": "whole"
       },
       "id": "977262b1-f553-4dcc-87ca-d31bafc67e54"
      }
     }
    },
    "7ce8dba7-7e11-4c2c-b2b5-a306996702de": {
     "id": "7ce8dba7-7e11-4c2c-b2b5-a306996702de",
     "prev": "d1234db9-92ca-4d05-9a9d-150226892688",
     "regions": {
      "dd64474a-38d6-43bd-ba71-533d2b900bce": {
       "attrs": {
        "height": 0.8,
        "width": 0.8,
        "x": 0.1,
        "y": 0.1
       },
       "content": {
        "cell": "c0ac2f34-0e38-4611-a4e1-081b59b3c540",
        "part": "whole"
       },
       "id": "dd64474a-38d6-43bd-ba71-533d2b900bce"
      }
     }
    },
    "958ce141-2cb2-4bdf-a210-3655c5252b4d": {
     "id": "958ce141-2cb2-4bdf-a210-3655c5252b4d",
     "prev": "4536a947-8005-411e-a0a3-34f41e121619",
     "regions": {
      "62430e4d-2c24-4799-8858-ff69474b3c7b": {
       "attrs": {
        "height": 0.8,
        "width": 0.8,
        "x": 0.1,
        "y": 0.1
       },
       "content": {
        "cell": "18c8e1e5-e9f5-445c-921e-445ba1d21f17",
        "part": "whole"
       },
       "id": "62430e4d-2c24-4799-8858-ff69474b3c7b"
      }
     }
    },
    "9a32fb8e-0afa-4a2f-ae56-b154827051e0": {
     "id": "9a32fb8e-0afa-4a2f-ae56-b154827051e0",
     "prev": "3a5c8f56-5fdc-4471-b8a8-da7fd58ccc05",
     "regions": {
      "2a464aec-a3f1-4593-9ed0-bd9e6bb5bee7": {
       "attrs": {
        "height": 0.8,
        "width": 0.8,
        "x": 0.1,
        "y": 0.1
       },
       "content": {
        "cell": "eb5c5dfc-13cf-4f51-b8a8-8c0ab113c68a",
        "part": "whole"
       },
       "id": "2a464aec-a3f1-4593-9ed0-bd9e6bb5bee7"
      }
     }
    },
    "b3c746fe-4167-4dc9-b525-24fe0d20e671": {
     "id": "b3c746fe-4167-4dc9-b525-24fe0d20e671",
     "prev": "73cfb512-6f9f-4550-b553-2ace2aa999f8",
     "regions": {
      "49b4d0bc-b281-43c4-8b6e-e5bc776ab12e": {
       "attrs": {
        "height": 0.8,
        "width": 0.8,
        "x": 0.1,
        "y": 0.1
       },
       "content": {
        "cell": "50ffd993-b6c8-43a3-a4d7-8f3c74bfb08b",
        "part": "whole"
       },
       "id": "49b4d0bc-b281-43c4-8b6e-e5bc776ab12e"
      }
     }
    },
    "c0e1146b-357c-4839-a3b9-39dbb14f6805": {
     "id": "c0e1146b-357c-4839-a3b9-39dbb14f6805",
     "prev": "44cb1a79-0c3d-40b1-8c3a-e39a216f9098",
     "regions": {
      "c0b2b675-5904-44f5-b510-0119eb806fcf": {
       "attrs": {
        "height": 0.8,
        "width": 0.8,
        "x": 0.1,
        "y": 0.1
       },
       "content": {
        "cell": "1427b760-54f8-47a7-9478-ca83f95f19c5",
        "part": "whole"
       },
       "id": "c0b2b675-5904-44f5-b510-0119eb806fcf"
      }
     }
    },
    "c6578ac5-c537-4311-9a4a-4d257244aea1": {
     "id": "c6578ac5-c537-4311-9a4a-4d257244aea1",
     "prev": "786d3889-d865-4e22-92be-94334bf1b5e5",
     "regions": {
      "7106af3d-bc11-4b85-8811-b13039bf4acc": {
       "attrs": {
        "height": 0.8,
        "width": 0.8,
        "x": 0.1,
        "y": 0.1
       },
       "content": {
        "cell": "e4f8bf7d-0370-4104-8269-97f95839f907",
        "part": "whole"
       },
       "id": "7106af3d-bc11-4b85-8811-b13039bf4acc"
      }
     }
    },
    "cc17e954-5b0f-4943-a73e-6dd39883477e": {
     "id": "cc17e954-5b0f-4943-a73e-6dd39883477e",
     "prev": "5efa628c-01b4-4415-b70b-ebb384e5019c",
     "regions": {
      "d79e071b-e505-4347-b051-a0b7e0b9562a": {
       "attrs": {
        "height": 0.8,
        "width": 0.8,
        "x": 0.1,
        "y": 0.1
       },
       "content": {
        "cell": "47428576-bef1-413d-8ce9-c27c19a89469",
        "part": "whole"
       },
       "id": "d79e071b-e505-4347-b051-a0b7e0b9562a"
      }
     }
    },
    "d1234db9-92ca-4d05-9a9d-150226892688": {
     "id": "d1234db9-92ca-4d05-9a9d-150226892688",
     "prev": null,
     "regions": {
      "ab6a1591-31ee-4f5f-9bde-f077312f093c": {
       "attrs": {
        "height": 0.8,
        "width": 0.8,
        "x": 0.1,
        "y": 0.1
       },
       "content": {
        "cell": "edd75f49-a55e-45f8-8f53-79b4869c8175",
        "part": "whole"
       },
       "id": "ab6a1591-31ee-4f5f-9bde-f077312f093c"
      }
     }
    },
    "e2c064c2-341c-4c18-b9ff-78ae58d0d670": {
     "id": "e2c064c2-341c-4c18-b9ff-78ae58d0d670",
     "prev": "c0e1146b-357c-4839-a3b9-39dbb14f6805",
     "regions": {
      "28e6e84b-7808-4470-a019-79b17384deb0": {
       "attrs": {
        "height": 0.8,
        "width": 0.8,
        "x": 0.1,
        "y": 0.1
       },
       "content": {
        "cell": "7c564809-bea3-4ed7-ae55-a27efa4ecce9",
        "part": "whole"
       },
       "id": "28e6e84b-7808-4470-a019-79b17384deb0"
      }
     }
    }
   },
   "themes": {
    "default": "d55d4ec0-04bb-42a0-95d4-46ebafa95821",
    "theme": {
     "3abea00e-03cb-443d-83ff-025da24b6127": {
      "backgrounds": {
       "dc7afa04-bf90-40b1-82a5-726e3cff5267": {
        "background-color": "31af15d2-7e15-44c5-ab5e-e04b16a89eff",
        "id": "dc7afa04-bf90-40b1-82a5-726e3cff5267"
       }
      },
      "id": "3abea00e-03cb-443d-83ff-025da24b6127",
      "palette": {
       "19cc588f-0593-49c9-9f4b-e4d7cc113b1c": {
        "id": "19cc588f-0593-49c9-9f4b-e4d7cc113b1c",
        "rgb": [
         252,
         252,
         252
        ]
       },
       "31af15d2-7e15-44c5-ab5e-e04b16a89eff": {
        "id": "31af15d2-7e15-44c5-ab5e-e04b16a89eff",
        "rgb": [
         68,
         68,
         68
        ]
       },
       "50f92c45-a630-455b-aec3-788680ec7410": {
        "id": "50f92c45-a630-455b-aec3-788680ec7410",
        "rgb": [
         197,
         226,
         245
        ]
       },
       "c5cc3653-2ee1-402a-aba2-7caae1da4f6c": {
        "id": "c5cc3653-2ee1-402a-aba2-7caae1da4f6c",
        "rgb": [
         43,
         126,
         184
        ]
       },
       "efa7f048-9acb-414c-8b04-a26811511a21": {
        "id": "efa7f048-9acb-414c-8b04-a26811511a21",
        "rgb": [
         25.118061674008803,
         73.60176211453744,
         107.4819383259912
        ]
       }
      },
      "rules": {
       "a": {
        "color": "19cc588f-0593-49c9-9f4b-e4d7cc113b1c"
       },
       "blockquote": {
        "color": "50f92c45-a630-455b-aec3-788680ec7410",
        "font-size": 3
       },
       "code": {
        "font-family": "Anonymous Pro"
       },
       "h1": {
        "color": "19cc588f-0593-49c9-9f4b-e4d7cc113b1c",
        "font-family": "Merriweather",
        "font-size": 8
       },
       "h2": {
        "color": "19cc588f-0593-49c9-9f4b-e4d7cc113b1c",
        "font-family": "Merriweather",
        "font-size": 6
       },
       "h3": {
        "color": "50f92c45-a630-455b-aec3-788680ec7410",
        "font-family": "Lato",
        "font-size": 5.5
       },
       "h4": {
        "color": "c5cc3653-2ee1-402a-aba2-7caae1da4f6c",
        "font-family": "Lato",
        "font-size": 5
       },
       "h5": {
        "font-family": "Lato"
       },
       "h6": {
        "font-family": "Lato"
       },
       "h7": {
        "font-family": "Lato"
       },
       "li": {
        "color": "50f92c45-a630-455b-aec3-788680ec7410",
        "font-size": 3.25
       },
       "pre": {
        "font-family": "Anonymous Pro",
        "font-size": 4
       }
      },
      "text-base": {
       "color": "19cc588f-0593-49c9-9f4b-e4d7cc113b1c",
       "font-family": "Lato",
       "font-size": 4
      }
     },
     "d55d4ec0-04bb-42a0-95d4-46ebafa95821": {
      "id": "d55d4ec0-04bb-42a0-95d4-46ebafa95821",
      "palette": {
       "19cc588f-0593-49c9-9f4b-e4d7cc113b1c": {
        "id": "19cc588f-0593-49c9-9f4b-e4d7cc113b1c",
        "rgb": [
         252,
         252,
         252
        ]
       },
       "31af15d2-7e15-44c5-ab5e-e04b16a89eff": {
        "id": "31af15d2-7e15-44c5-ab5e-e04b16a89eff",
        "rgb": [
         68,
         68,
         68
        ]
       },
       "50f92c45-a630-455b-aec3-788680ec7410": {
        "id": "50f92c45-a630-455b-aec3-788680ec7410",
        "rgb": [
         155,
         177,
         192
        ]
       },
       "c5cc3653-2ee1-402a-aba2-7caae1da4f6c": {
        "id": "c5cc3653-2ee1-402a-aba2-7caae1da4f6c",
        "rgb": [
         43,
         126,
         184
        ]
       },
       "efa7f048-9acb-414c-8b04-a26811511a21": {
        "id": "efa7f048-9acb-414c-8b04-a26811511a21",
        "rgb": [
         25.118061674008803,
         73.60176211453744,
         107.4819383259912
        ]
       }
      },
      "rules": {
       "blockquote": {
        "color": "50f92c45-a630-455b-aec3-788680ec7410"
       },
       "code": {
        "font-family": "Anonymous Pro"
       },
       "h1": {
        "color": "c5cc3653-2ee1-402a-aba2-7caae1da4f6c",
        "font-family": "Lato",
        "font-size": 8
       },
       "h2": {
        "color": "c5cc3653-2ee1-402a-aba2-7caae1da4f6c",
        "font-family": "Lato",
        "font-size": 6
       },
       "h3": {
        "color": "50f92c45-a630-455b-aec3-788680ec7410",
        "font-family": "Lato",
        "font-size": 5.5
       },
       "h4": {
        "color": "c5cc3653-2ee1-402a-aba2-7caae1da4f6c",
        "font-family": "Lato",
        "font-size": 5
       },
       "h5": {
        "font-family": "Lato"
       },
       "h6": {
        "font-family": "Lato"
       },
       "h7": {
        "font-family": "Lato"
       },
       "pre": {
        "font-family": "Anonymous Pro",
        "font-size": 4
       }
      },
      "text-base": {
       "font-family": "Merriweather",
       "font-size": 4
      }
     }
    }
   }
  }
 },
 "nbformat": 4,
 "nbformat_minor": 1
}
